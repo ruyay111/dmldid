{
 "cells": [
  {
   "metadata": {
    "ExecuteTime": {
     "end_time": "2024-10-07T01:56:54.084426Z",
     "start_time": "2024-10-07T01:56:53.871895Z"
    }
   },
   "cell_type": "code",
   "source": [
    "import os\n",
    "import pandas as pd"
   ],
   "id": "c0d15a32592afd38",
   "outputs": [],
   "execution_count": 1
  },
  {
   "cell_type": "code",
   "id": "initial_id",
   "metadata": {
    "collapsed": true,
    "ExecuteTime": {
     "end_time": "2024-10-07T01:56:54.088539Z",
     "start_time": "2024-10-07T01:56:54.086338Z"
    }
   },
   "source": [
    "dataset_dir = \"njmin\""
   ],
   "outputs": [],
   "execution_count": 2
  },
  {
   "metadata": {
    "ExecuteTime": {
     "end_time": "2024-10-07T01:56:54.092261Z",
     "start_time": "2024-10-07T01:56:54.089803Z"
    }
   },
   "cell_type": "code",
   "source": [
    "codebook_path = os.path.join(dataset_dir, \"codebook\")\n",
    "data_path = os.path.join(dataset_dir, \"public.dat\")"
   ],
   "id": "c84fdeef6c017636",
   "outputs": [],
   "execution_count": 3
  },
  {
   "metadata": {
    "ExecuteTime": {
     "end_time": "2024-10-07T01:56:54.096419Z",
     "start_time": "2024-10-07T01:56:54.093635Z"
    }
   },
   "cell_type": "code",
   "source": [
    "with open(codebook_path, 'r', encoding='latin1') as f:\n",
    "    codebook = f.readlines()\n",
    "    \n",
    "codebook_lines = codebook[7:59]"
   ],
   "id": "c146449a764541d1",
   "outputs": [],
   "execution_count": 4
  },
  {
   "metadata": {
    "ExecuteTime": {
     "end_time": "2024-10-07T01:56:54.104839Z",
     "start_time": "2024-10-07T01:56:54.102210Z"
    }
   },
   "cell_type": "code",
   "source": [
    "variable_lines = []\n",
    "for i, line in enumerate(codebook_lines):\n",
    "    if i not in [4,5,12,13,31,32]:\n",
    "        variable_lines.append(line)"
   ],
   "id": "20238c4cfc15d6de",
   "outputs": [],
   "execution_count": 5
  },
  {
   "metadata": {
    "ExecuteTime": {
     "end_time": "2024-10-07T01:56:54.108779Z",
     "start_time": "2024-10-07T01:56:54.106133Z"
    }
   },
   "cell_type": "code",
   "source": [
    "variable_names = []\n",
    "for line in variable_lines:\n",
    "    variable_names.append(line[:13].strip().lower())"
   ],
   "id": "46faff1402f771df",
   "outputs": [],
   "execution_count": 6
  },
  {
   "metadata": {
    "ExecuteTime": {
     "end_time": "2024-10-07T01:56:54.113321Z",
     "start_time": "2024-10-07T01:56:54.110445Z"
    }
   },
   "cell_type": "code",
   "source": [
    "print(variable_names)"
   ],
   "id": "b0fcc75e58fc7eb9",
   "outputs": [
    {
     "name": "stdout",
     "output_type": "stream",
     "text": [
      "['sheet', 'chain', 'co_owned', 'state', 'southj', 'centralj', 'northj', 'pa1', 'pa2', 'shore', 'ncalls', 'empft', 'emppt', 'nmgrs', 'wage_st', 'inctime', 'firstinc', 'bonus', 'pctaff', 'meals', 'open', 'hrsopen', 'psoda', 'pfry', 'pentree', 'nregs', 'nregs11', 'type2', 'status2', 'date2', 'ncalls2', 'empft2', 'emppt2', 'nmgrs2', 'wage_st2', 'inctime2', 'firstin2', 'special2', 'meals2', 'open2r', 'hrsopen2', 'psoda2', 'pfry2', 'pentree2', 'nregs2', 'nregs112']\n"
     ]
    }
   ],
   "execution_count": 7
  },
  {
   "metadata": {
    "ExecuteTime": {
     "end_time": "2024-10-07T01:56:54.126108Z",
     "start_time": "2024-10-07T01:56:54.114966Z"
    }
   },
   "cell_type": "code",
   "source": [
    "df = pd.read_fwf(data_path, header=None)\n",
    "df.columns = variable_names"
   ],
   "id": "e52d5bca8c53e10c",
   "outputs": [],
   "execution_count": 8
  },
  {
   "metadata": {
    "ExecuteTime": {
     "end_time": "2024-10-07T01:56:54.138655Z",
     "start_time": "2024-10-07T01:56:54.127562Z"
    }
   },
   "cell_type": "code",
   "source": [
    "df"
   ],
   "id": "d84876a35b6393fc",
   "outputs": [
    {
     "data": {
      "text/plain": [
       "     sheet  chain  co_owned  state  southj  centralj  northj  pa1  pa2  shore  \\\n",
       "0       46      1         0      0       0         0       0    1    0      0   \n",
       "1       49      2         0      0       0         0       0    1    0      0   \n",
       "2      506      2         1      0       0         0       0    1    0      0   \n",
       "3       56      4         1      0       0         0       0    1    0      0   \n",
       "4       61      4         1      0       0         0       0    1    0      0   \n",
       "..     ...    ...       ...    ...     ...       ...     ...  ...  ...    ...   \n",
       "405    423      2         1      1       0         0       1    0    0      0   \n",
       "406    424      2         1      1       0         0       1    0    0      0   \n",
       "407    426      3         1      1       0         0       1    0    0      0   \n",
       "408    427      4         0      1       0         0       1    0    0      0   \n",
       "409    428      4         0      1       0         0       1    0    0      0   \n",
       "\n",
       "     ...  firstin2 special2 meals2 open2r hrsopen2 psoda2 pfry2  pentree2  \\\n",
       "0    ...      0.08        1      2   6.50    16.50   1.03     .      0.94   \n",
       "1    ...      0.05        0      2  10.00    13.00   1.01  0.89      2.35   \n",
       "2    ...      0.25        .      1  11.00    11.00   0.95  0.74      2.33   \n",
       "3    ...      0.15        0      2  10.00    12.00   0.92  0.79      0.87   \n",
       "4    ...      0.15        0      2  10.00    12.00   1.01  0.84      0.95   \n",
       "..   ...       ...      ...    ...    ...      ...    ...   ...       ...   \n",
       "405  ...      0.50        0      1  11.00    11.00   1.05  0.84      2.32   \n",
       "406  ...      0.50        0      1  11.00    14.00   1.05  0.94      2.32   \n",
       "407  ...      0.25        1      2   6.00    18.00   1.11  1.05      1.05   \n",
       "408  ...         .        1      2  10.50    12.50   1.11  1.09      2.07   \n",
       "409  ...      0.10        0      2  10.50    12.50   1.05  0.89      2.11   \n",
       "\n",
       "    nregs2  nregs112  \n",
       "0        4         4  \n",
       "1        4         4  \n",
       "2        4         3  \n",
       "3        2         2  \n",
       "4        2         2  \n",
       "..     ...       ...  \n",
       "405      3         2  \n",
       "406      5         3  \n",
       "407      6         5  \n",
       "408      2         2  \n",
       "409      2         2  \n",
       "\n",
       "[410 rows x 46 columns]"
      ],
      "text/html": [
       "<div>\n",
       "<style scoped>\n",
       "    .dataframe tbody tr th:only-of-type {\n",
       "        vertical-align: middle;\n",
       "    }\n",
       "\n",
       "    .dataframe tbody tr th {\n",
       "        vertical-align: top;\n",
       "    }\n",
       "\n",
       "    .dataframe thead th {\n",
       "        text-align: right;\n",
       "    }\n",
       "</style>\n",
       "<table border=\"1\" class=\"dataframe\">\n",
       "  <thead>\n",
       "    <tr style=\"text-align: right;\">\n",
       "      <th></th>\n",
       "      <th>sheet</th>\n",
       "      <th>chain</th>\n",
       "      <th>co_owned</th>\n",
       "      <th>state</th>\n",
       "      <th>southj</th>\n",
       "      <th>centralj</th>\n",
       "      <th>northj</th>\n",
       "      <th>pa1</th>\n",
       "      <th>pa2</th>\n",
       "      <th>shore</th>\n",
       "      <th>...</th>\n",
       "      <th>firstin2</th>\n",
       "      <th>special2</th>\n",
       "      <th>meals2</th>\n",
       "      <th>open2r</th>\n",
       "      <th>hrsopen2</th>\n",
       "      <th>psoda2</th>\n",
       "      <th>pfry2</th>\n",
       "      <th>pentree2</th>\n",
       "      <th>nregs2</th>\n",
       "      <th>nregs112</th>\n",
       "    </tr>\n",
       "  </thead>\n",
       "  <tbody>\n",
       "    <tr>\n",
       "      <th>0</th>\n",
       "      <td>46</td>\n",
       "      <td>1</td>\n",
       "      <td>0</td>\n",
       "      <td>0</td>\n",
       "      <td>0</td>\n",
       "      <td>0</td>\n",
       "      <td>0</td>\n",
       "      <td>1</td>\n",
       "      <td>0</td>\n",
       "      <td>0</td>\n",
       "      <td>...</td>\n",
       "      <td>0.08</td>\n",
       "      <td>1</td>\n",
       "      <td>2</td>\n",
       "      <td>6.50</td>\n",
       "      <td>16.50</td>\n",
       "      <td>1.03</td>\n",
       "      <td>.</td>\n",
       "      <td>0.94</td>\n",
       "      <td>4</td>\n",
       "      <td>4</td>\n",
       "    </tr>\n",
       "    <tr>\n",
       "      <th>1</th>\n",
       "      <td>49</td>\n",
       "      <td>2</td>\n",
       "      <td>0</td>\n",
       "      <td>0</td>\n",
       "      <td>0</td>\n",
       "      <td>0</td>\n",
       "      <td>0</td>\n",
       "      <td>1</td>\n",
       "      <td>0</td>\n",
       "      <td>0</td>\n",
       "      <td>...</td>\n",
       "      <td>0.05</td>\n",
       "      <td>0</td>\n",
       "      <td>2</td>\n",
       "      <td>10.00</td>\n",
       "      <td>13.00</td>\n",
       "      <td>1.01</td>\n",
       "      <td>0.89</td>\n",
       "      <td>2.35</td>\n",
       "      <td>4</td>\n",
       "      <td>4</td>\n",
       "    </tr>\n",
       "    <tr>\n",
       "      <th>2</th>\n",
       "      <td>506</td>\n",
       "      <td>2</td>\n",
       "      <td>1</td>\n",
       "      <td>0</td>\n",
       "      <td>0</td>\n",
       "      <td>0</td>\n",
       "      <td>0</td>\n",
       "      <td>1</td>\n",
       "      <td>0</td>\n",
       "      <td>0</td>\n",
       "      <td>...</td>\n",
       "      <td>0.25</td>\n",
       "      <td>.</td>\n",
       "      <td>1</td>\n",
       "      <td>11.00</td>\n",
       "      <td>11.00</td>\n",
       "      <td>0.95</td>\n",
       "      <td>0.74</td>\n",
       "      <td>2.33</td>\n",
       "      <td>4</td>\n",
       "      <td>3</td>\n",
       "    </tr>\n",
       "    <tr>\n",
       "      <th>3</th>\n",
       "      <td>56</td>\n",
       "      <td>4</td>\n",
       "      <td>1</td>\n",
       "      <td>0</td>\n",
       "      <td>0</td>\n",
       "      <td>0</td>\n",
       "      <td>0</td>\n",
       "      <td>1</td>\n",
       "      <td>0</td>\n",
       "      <td>0</td>\n",
       "      <td>...</td>\n",
       "      <td>0.15</td>\n",
       "      <td>0</td>\n",
       "      <td>2</td>\n",
       "      <td>10.00</td>\n",
       "      <td>12.00</td>\n",
       "      <td>0.92</td>\n",
       "      <td>0.79</td>\n",
       "      <td>0.87</td>\n",
       "      <td>2</td>\n",
       "      <td>2</td>\n",
       "    </tr>\n",
       "    <tr>\n",
       "      <th>4</th>\n",
       "      <td>61</td>\n",
       "      <td>4</td>\n",
       "      <td>1</td>\n",
       "      <td>0</td>\n",
       "      <td>0</td>\n",
       "      <td>0</td>\n",
       "      <td>0</td>\n",
       "      <td>1</td>\n",
       "      <td>0</td>\n",
       "      <td>0</td>\n",
       "      <td>...</td>\n",
       "      <td>0.15</td>\n",
       "      <td>0</td>\n",
       "      <td>2</td>\n",
       "      <td>10.00</td>\n",
       "      <td>12.00</td>\n",
       "      <td>1.01</td>\n",
       "      <td>0.84</td>\n",
       "      <td>0.95</td>\n",
       "      <td>2</td>\n",
       "      <td>2</td>\n",
       "    </tr>\n",
       "    <tr>\n",
       "      <th>...</th>\n",
       "      <td>...</td>\n",
       "      <td>...</td>\n",
       "      <td>...</td>\n",
       "      <td>...</td>\n",
       "      <td>...</td>\n",
       "      <td>...</td>\n",
       "      <td>...</td>\n",
       "      <td>...</td>\n",
       "      <td>...</td>\n",
       "      <td>...</td>\n",
       "      <td>...</td>\n",
       "      <td>...</td>\n",
       "      <td>...</td>\n",
       "      <td>...</td>\n",
       "      <td>...</td>\n",
       "      <td>...</td>\n",
       "      <td>...</td>\n",
       "      <td>...</td>\n",
       "      <td>...</td>\n",
       "      <td>...</td>\n",
       "      <td>...</td>\n",
       "    </tr>\n",
       "    <tr>\n",
       "      <th>405</th>\n",
       "      <td>423</td>\n",
       "      <td>2</td>\n",
       "      <td>1</td>\n",
       "      <td>1</td>\n",
       "      <td>0</td>\n",
       "      <td>0</td>\n",
       "      <td>1</td>\n",
       "      <td>0</td>\n",
       "      <td>0</td>\n",
       "      <td>0</td>\n",
       "      <td>...</td>\n",
       "      <td>0.50</td>\n",
       "      <td>0</td>\n",
       "      <td>1</td>\n",
       "      <td>11.00</td>\n",
       "      <td>11.00</td>\n",
       "      <td>1.05</td>\n",
       "      <td>0.84</td>\n",
       "      <td>2.32</td>\n",
       "      <td>3</td>\n",
       "      <td>2</td>\n",
       "    </tr>\n",
       "    <tr>\n",
       "      <th>406</th>\n",
       "      <td>424</td>\n",
       "      <td>2</td>\n",
       "      <td>1</td>\n",
       "      <td>1</td>\n",
       "      <td>0</td>\n",
       "      <td>0</td>\n",
       "      <td>1</td>\n",
       "      <td>0</td>\n",
       "      <td>0</td>\n",
       "      <td>0</td>\n",
       "      <td>...</td>\n",
       "      <td>0.50</td>\n",
       "      <td>0</td>\n",
       "      <td>1</td>\n",
       "      <td>11.00</td>\n",
       "      <td>14.00</td>\n",
       "      <td>1.05</td>\n",
       "      <td>0.94</td>\n",
       "      <td>2.32</td>\n",
       "      <td>5</td>\n",
       "      <td>3</td>\n",
       "    </tr>\n",
       "    <tr>\n",
       "      <th>407</th>\n",
       "      <td>426</td>\n",
       "      <td>3</td>\n",
       "      <td>1</td>\n",
       "      <td>1</td>\n",
       "      <td>0</td>\n",
       "      <td>0</td>\n",
       "      <td>1</td>\n",
       "      <td>0</td>\n",
       "      <td>0</td>\n",
       "      <td>0</td>\n",
       "      <td>...</td>\n",
       "      <td>0.25</td>\n",
       "      <td>1</td>\n",
       "      <td>2</td>\n",
       "      <td>6.00</td>\n",
       "      <td>18.00</td>\n",
       "      <td>1.11</td>\n",
       "      <td>1.05</td>\n",
       "      <td>1.05</td>\n",
       "      <td>6</td>\n",
       "      <td>5</td>\n",
       "    </tr>\n",
       "    <tr>\n",
       "      <th>408</th>\n",
       "      <td>427</td>\n",
       "      <td>4</td>\n",
       "      <td>0</td>\n",
       "      <td>1</td>\n",
       "      <td>0</td>\n",
       "      <td>0</td>\n",
       "      <td>1</td>\n",
       "      <td>0</td>\n",
       "      <td>0</td>\n",
       "      <td>0</td>\n",
       "      <td>...</td>\n",
       "      <td>.</td>\n",
       "      <td>1</td>\n",
       "      <td>2</td>\n",
       "      <td>10.50</td>\n",
       "      <td>12.50</td>\n",
       "      <td>1.11</td>\n",
       "      <td>1.09</td>\n",
       "      <td>2.07</td>\n",
       "      <td>2</td>\n",
       "      <td>2</td>\n",
       "    </tr>\n",
       "    <tr>\n",
       "      <th>409</th>\n",
       "      <td>428</td>\n",
       "      <td>4</td>\n",
       "      <td>0</td>\n",
       "      <td>1</td>\n",
       "      <td>0</td>\n",
       "      <td>0</td>\n",
       "      <td>1</td>\n",
       "      <td>0</td>\n",
       "      <td>0</td>\n",
       "      <td>0</td>\n",
       "      <td>...</td>\n",
       "      <td>0.10</td>\n",
       "      <td>0</td>\n",
       "      <td>2</td>\n",
       "      <td>10.50</td>\n",
       "      <td>12.50</td>\n",
       "      <td>1.05</td>\n",
       "      <td>0.89</td>\n",
       "      <td>2.11</td>\n",
       "      <td>2</td>\n",
       "      <td>2</td>\n",
       "    </tr>\n",
       "  </tbody>\n",
       "</table>\n",
       "<p>410 rows × 46 columns</p>\n",
       "</div>"
      ]
     },
     "execution_count": 9,
     "metadata": {},
     "output_type": "execute_result"
    }
   ],
   "execution_count": 9
  },
  {
   "metadata": {
    "ExecuteTime": {
     "end_time": "2024-10-07T01:56:54.144360Z",
     "start_time": "2024-10-07T01:56:54.140040Z"
    }
   },
   "cell_type": "code",
   "source": [
    "df.shape"
   ],
   "id": "da2e215e3300379a",
   "outputs": [
    {
     "data": {
      "text/plain": [
       "(410, 46)"
      ]
     },
     "execution_count": 10,
     "metadata": {},
     "output_type": "execute_result"
    }
   ],
   "execution_count": 10
  },
  {
   "metadata": {
    "ExecuteTime": {
     "end_time": "2024-10-07T01:56:54.151747Z",
     "start_time": "2024-10-07T01:56:54.145752Z"
    }
   },
   "cell_type": "code",
   "source": [
    "df.to_csv(\"Card and Krueger.csv\", index=False)"
   ],
   "id": "26a8c85f55981dea",
   "outputs": [],
   "execution_count": 11
  }
 ],
 "metadata": {
  "kernelspec": {
   "display_name": "Python 3",
   "language": "python",
   "name": "python3"
  },
  "language_info": {
   "codemirror_mode": {
    "name": "ipython",
    "version": 2
   },
   "file_extension": ".py",
   "mimetype": "text/x-python",
   "name": "python",
   "nbconvert_exporter": "python",
   "pygments_lexer": "ipython2",
   "version": "2.7.6"
  }
 },
 "nbformat": 4,
 "nbformat_minor": 5
}
